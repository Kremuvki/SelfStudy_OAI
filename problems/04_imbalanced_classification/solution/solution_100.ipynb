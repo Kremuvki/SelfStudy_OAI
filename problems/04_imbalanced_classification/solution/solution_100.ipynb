{
 "cells": [
  {
   "cell_type": "markdown",
   "metadata": {
    "id": "F8r_8XBJ_kw2"
   },
   "source": [
    "# Niezbalansowana klasyfikacja\n",
    "\n",
    "![image.png](attachment:image.png)\n",
    "\n",
    "## Wstęp\n",
    "\n",
    "Klasyfikacja obrazów to proces przypisywania etykiety do obrazu na podstawie jego zawartości. Przykładowo, chcielibyśmy, aby nasz program komputerowy mógł rozpoznawać, czy na obrazie jest kot, pies, samochód, samolot czy może coś zupełnie innego. W dzisiejszych czasach popularnym narzędziem do rozpoznawania obrazów są tzw. sieci konwolucyjne (CNN).\n",
    "\n",
    "Sieci konwolucyjne są rodzajem sieci neuronowych, które potrafią analizować i rozpoznawać wzorce w danych wizualnych.\n",
    "\n",
    "W przypadku klasyfikacji obrazów, sieć konwolucyjna składa się z kilku warstw, w tym konwolucyjnych i poolingowych. Warstwy konwolucyjne służą do ekstrakcji cech z obrazu, następnie za pomocą warstw poolingowych zmniejszamy wymiary danych, a na końcu wykorzystujemy warstwy w pełni połączone do klasyfikacji obrazu.\n",
    "\n",
    "Progresywne zmniejszanie warstw pozwala sieciom rozpoznawać coraz to bardziej abstrakcyjne cechy jako złożenie wielu pomniejszych cech np. ptak to coś co ma dziób i jest opierzone. Dziób z kolei to np. ostry kształt o żółtawym kolorze a opierzenie oznacza pokrycie dużą ilością małych kresek.\n",
    "\n",
    "### Zadanie\n",
    "\n",
    "Zaimplementuj klasyfikator `YourCnnClassifier`, rozpoznający i klasyfikujący obrazki na dwie klasy. Powinna być to konwolucyjna sieć neuronowa napisana z użyciem pakietu `pytorch`.\n",
    "\n",
    "Twoimi danymi w tym zadaniu są obrazki w formacie \\*.jpg o wymiarze 224 x 224. Obrazki te dzielą się na dwie kategorie: *normal* oraz *onion*, którym przypisano odpowiednio etykiety 0 i 1.\n",
    "\n",
    "Obrazki z klasy *normal* przedstawiają jasnoszare figury na czarnym tle. Natomiast obrazki z klasy *onion* różnią się tym, że mają dodane ciemnoszare pasma tworzące warstwy w środku jasnoszarych figur, co upodabnia je do cebuli. Wszystkie obrazki są dodatkowo zaszumione.\n",
    "\n",
    "![image-3.png](attachment:image-3.png)\n",
    "![image-2.png](attachment:image-2.png)\n",
    "\n",
    "Publicznym interfejsem klasy `YourCnnClassifier` muszą być dwie metody ([class methods](https://stackoverflow.com/questions/12179271/meaning-of-classmethod-and-staticmethod-for-beginner) dokładnie rzecz biorąc):\n",
    "- `load` - ma wczytać parametry modelu z pliku `cnn-classifier.pth`. Tego będziemy używać podczas testowania twojego rozwiązania\n",
    "- `create_with_training` - ma wytrenować model i zapisać jego parametry do pliku `cnn-classifier.pth`.\n",
    "\n",
    "### Kryterium oceny\n",
    "\n",
    "Twoje rozwiązanie oceniane będzie na podstawie skuteczności klasyfikacji\n",
    "\n",
    "$$\n",
    "\\mathrm{score}(accuracy) = \\begin{cases}\n",
    "    0 & \\text{jeżeli } accuracy < 0.5 \\\\\n",
    "    (accuracy - 0.5) * 2 & \\text{w.p.p.}\n",
    "\\end{cases}\n",
    "$$\n",
    "\n",
    "Powyższe kryterium, klasa abstrakcyjna opisująca interfejs modelu oraz ładowanie danych, są zaimplementowane poniżej przez nas. Jednocześnie podany jest przykład trywialnego klasyfikatora, który zawsze twierdzi, że próbka jest normalna. Tym samym podczas testowania na zbalansowanym zbiorze testowym otrzymuje on 0 pkt.\n",
    "\n",
    "### Pliki zgłoszeniowe\n",
    "\n",
    "1. Ten notebook\n",
    "2. Plik zawierający wagi modelu o nazwie `cnn-classifier.pth`\n",
    "\n",
    "**Uwaga:** Zbiór danych treningowych, który dostarczamy, jest niezbalansowany, natomiast Twoje rozwiązanie testowane będzie na zbalansowanym zbiorze, aby metryka `accuracy` była miarodajna. Weź to pod uwagę podczas tworzenia swojego modelu.\n",
    "\n",
    "### Ograniczenia\n",
    "\n",
    "- Ewaluacja twojego rozwiązania (bez treningu, flaga `FINAL_EVALUATION_MODE` ustawiona na `True`) na 50 przykładach testowych powinna trwać nie dłużej niż 2 minuty na Google Colab **bez** GPU.\n",
    "- Wykonanie skryptu na Google Colab **bez** GPU z flagą `FINAL_EVALUATION_MODE` ustawioną na `False` powinno wytrenować model i wygenerować plik z wagami w nie więcej niż 15 minut.\n",
    "- Rozmiar pliku `cnn-classifier.pth` nie powienien przekroczyć 35MB.\n",
    "\n",
    "## Ewaluacja\n",
    "\n",
    "Pamiętaj, że podczas sprawdzania flaga `FINAL_EVALUATION_MODE` zostanie ustawiona na `True`. Za pomocą skryptu `validation_script.py` możesz upewnić się, że Twoje rozwiązanie zostanie prawidłowo wykonane na naszych serwerach oceniających.\n",
    "\n",
    "Za to zadanie możesz zdobyć pomiędzy 0 i 1 punktów. Liczba punktów, które zdobędziesz będzie równa wartości `score`, wyliczonej na zbiorze testowym."
   ]
  },
  {
   "cell_type": "markdown",
   "metadata": {
    "id": "HzK2Uta3_kw9"
   },
   "source": [
    "# Kod startowy"
   ]
  },
  {
   "cell_type": "code",
   "execution_count": null,
   "metadata": {
    "id": "Z_pEbgji_kw-"
   },
   "outputs": [],
   "source": [
    "######################### NIE ZMIENIAJ TEJ KOMÓRKI PODCZAS WYSYŁANIA ##########################\n",
    "\n",
    "FINAL_EVALUATION_MODE = False\n",
    "# W czasie sprawdzania Twojego rozwiązania, zmienimy tę wartość na True\n",
    "# Wartość tej flagi M U S I zostać ustawiona na False w rozwiązaniu, które nam nadeślesz!"
   ]
  },
  {
   "cell_type": "code",
   "execution_count": null,
   "metadata": {
    "id": "id_Jfube_kw_"
   },
   "outputs": [],
   "source": [
    "######################### NIE ZMIENIAJ TEJ KOMÓRKI PODCZAS WYSYŁANIA ##########################\n",
    "\n",
    "import abc\n",
    "import os\n",
    "\n",
    "import glob\n",
    "import gdown\n",
    "import numpy as np\n",
    "import torch\n",
    "import torch.nn as nn\n",
    "import torch.optim as optim\n",
    "import torchvision\n",
    "import matplotlib.pyplot as plt\n",
    "import zipfile"
   ]
  },
  {
   "cell_type": "markdown",
   "metadata": {
    "id": "unwUhmcy_kw_"
   },
   "source": [
    "## Ładowanie danych"
   ]
  },
  {
   "cell_type": "code",
   "execution_count": null,
   "metadata": {
    "id": "CIw_agDe_kw_"
   },
   "outputs": [],
   "source": [
    "######################### NIE ZMIENIAJ TEJ KOMÓRKI PODCZAS WYSYŁANIA ##########################\n",
    "\n",
    "GDRIVE_DATA = [\n",
    "    (\"1bR87z7ZI3gLK0vAGkyr_cnVGZ9P9bO7A\", \"train_data.zip\"),\n",
    "    (\"1TA0lWnjJCv3lyRMML4JNHsJz3RJ-TUwZ\", \"valid_data.zip\"),\n",
    "]\n",
    "\n",
    "\n",
    "def download_data():\n",
    "    for file_id, zip_name in GDRIVE_DATA:\n",
    "        folder_name = zip_name.split(\".\")[0]\n",
    "        if not os.path.exists(folder_name):\n",
    "            url = f\"https://drive.google.com/uc?id={file_id}\"\n",
    "            gdown.download(url, output=zip_name, quiet=True)\n",
    "            with zipfile.ZipFile(zip_name, \"r\") as zip_ref:\n",
    "                zip_ref.extractall(folder_name)\n",
    "            os.remove(zip_name)\n",
    "\n",
    "\n",
    "download_data()\n",
    "\n",
    "\n",
    "class ImageDataset(torch.utils.data.Dataset):\n",
    "    \"\"\"Implementacja abstrakcji zbioru danych z torch'a.\"\"\"\n",
    "\n",
    "    def __init__(self, dataset_type: str):\n",
    "        self.filelist = glob.glob(f\"{dataset_type}_data/*\")\n",
    "        self.labels = [0 if \"normal\" in path else 1 for path in self.filelist]\n",
    "\n",
    "    def __len__(self):\n",
    "        return len(self.filelist)\n",
    "\n",
    "    def __getitem__(self, idx) -> tuple[torch.Tensor, int]:\n",
    "        if torch.is_tensor(idx):\n",
    "            idx = idx.tolist()\n",
    "        image = torchvision.transforms.functional.to_tensor(\n",
    "            plt.imread(self.filelist[idx])[:, :, 0]\n",
    "        )\n",
    "        label = self.labels[idx]\n",
    "        return image, label\n",
    "\n",
    "    def loader(self, **kwargs) -> torch.utils.data.DataLoader:\n",
    "        \"\"\"\n",
    "        Stwórz, `DataLoader`'a dla aktualnego zbioru danych.\n",
    "\n",
    "        Wszystkie `**kwargs` zostaną przekazane do konstruktora `torch.utils.data.DataLoader`.\n",
    "        `DataLoader`'y w skrócie to abstrakcja ładowania danych usdostępniająca wygodny interfejs.\n",
    "        Możesz dowiedzieć się o nich więcej tutaj: https://pytorch.org/docs/stable/data.html#torch.utils.data.DataLoader\n",
    "        \"\"\"\n",
    "        return torch.utils.data.DataLoader(self, **kwargs)\n",
    "\n",
    "\n",
    "train_dataset: ImageDataset = ImageDataset(\"train\")\n",
    "valid_dataset: ImageDataset = ImageDataset(\"valid\")"
   ]
  },
  {
   "cell_type": "markdown",
   "metadata": {
    "id": "bB7sp1-9_kxA"
   },
   "source": [
    "## Kod z kryterium oceniającym"
   ]
  },
  {
   "cell_type": "code",
   "execution_count": null,
   "metadata": {
    "id": "ASROZHIU_kxA"
   },
   "outputs": [],
   "source": [
    "######################### NIE ZMIENIAJ TEJ KOMÓRKI PODCZAS WYSYŁANIA ##########################\n",
    "\n",
    "\n",
    "def accuracy_to_points(accuracy: float) -> float:\n",
    "    \"\"\"Oblicz wynik na podstawie celności predykcji.\"\"\"\n",
    "    return (round(accuracy, 2) - 0.5) * 2 if accuracy > 0.5 else 0.0\n",
    "\n",
    "\n",
    "def grade(model):\n",
    "    \"\"\"Oceń ile punktów otrzyma aktualne zadanie.\"\"\"\n",
    "    model.eval()\n",
    "    test_loader = valid_dataset.loader()\n",
    "    correct = 0\n",
    "    total = 0\n",
    "    with torch.no_grad():\n",
    "        for [images, labels] in test_loader:\n",
    "            outputs = model(images).squeeze()\n",
    "            incorrect_indices = torch.where((outputs > 0.5).int() != labels)[0]\n",
    "            correct += len(labels) - len(incorrect_indices)\n",
    "            total += len(labels)\n",
    "        accuracy = correct / total if total != 0 else 0\n",
    "        if not FINAL_EVALUATION_MODE:\n",
    "            print(f\"Accuracy: {int(round(accuracy, 2) * 100)}%\")\n",
    "        return accuracy_to_points(accuracy)"
   ]
  },
  {
   "cell_type": "markdown",
   "metadata": {
    "id": "Przia133_kxB"
   },
   "source": [
    "## Publiczny interfejs rozwiązania\n",
    "\n",
    "Tylko tego wymagamy od Twojej klasy, w Twoim rozwiązaniu możesz modyfikować swoją klasę do woli dodając nowe metody oraz atrybuty klasy - cokolwiek co będzie Ci potrzebne do rozwiązania zadania."
   ]
  },
  {
   "cell_type": "code",
   "execution_count": null,
   "metadata": {
    "id": "stz11bb8_kxB"
   },
   "outputs": [],
   "source": [
    "######################### NIE ZMIENIAJ TEJ KOMÓRKI PODCZAS WYSYŁANIA ##########################\n",
    "\n",
    "\n",
    "class CnnClassifier(torch.nn.Module, abc.ABC):\n",
    "    MODEL_PATH: str = \"cnn-classifier.pth\"\n",
    "\n",
    "    @classmethod\n",
    "    def load(cls):\n",
    "        \"\"\"Załaduj model z pliku.\"\"\"\n",
    "        model = cls()\n",
    "        model.load_state_dict(torch.load(cls.MODEL_PATH))\n",
    "        return model\n",
    "\n",
    "    @classmethod\n",
    "    @abc.abstractmethod\n",
    "    def create_with_training(cls):\n",
    "        \"\"\"Zapisz model do pliku.\"\"\"\n",
    "        pass"
   ]
  },
  {
   "cell_type": "markdown",
   "metadata": {
    "id": "PF1WjewI_kxB"
   },
   "source": [
    "## Przykładowe rozwiązanie\n",
    "Poniżej prezentujemy proste rozwiązanie, które w oczywisty sposób nie jest optymalne. Służy temu, aby było wiadomo w jaki sposób ma działać cały notatnik."
   ]
  },
  {
   "cell_type": "code",
   "execution_count": null,
   "metadata": {
    "id": "di9dzJF4_kxB"
   },
   "outputs": [],
   "source": [
    "######################### NIE ZMIENIAJ TEJ KOMÓRKI PODCZAS WYSYŁANIA ##########################\n",
    "\n",
    "if not FINAL_EVALUATION_MODE:\n",
    "\n",
    "    class DummyCnnClassifier(CnnClassifier):\n",
    "        def forward(self, x):\n",
    "            batch_size, *_ = x.shape\n",
    "            return torch.zeros(batch_size)\n",
    "\n",
    "        @classmethod\n",
    "        def create_with_training(cls):\n",
    "            return cls()\n",
    "\n",
    "    dummy_model = DummyCnnClassifier.create_with_training()\n",
    "    print(f\"DummyCnnClassifier -- Ocena: {grade(dummy_model)} pkt\")\n",
    "\n",
    "    del dummy_model\n",
    "    del DummyCnnClassifier"
   ]
  },
  {
   "cell_type": "markdown",
   "metadata": {
    "id": "lnWRIxXh_kxC"
   },
   "source": [
    "# Twoje Rozwiązanie"
   ]
  },
  {
   "cell_type": "code",
   "execution_count": null,
   "metadata": {
    "id": "hYvhkjfb_kxC"
   },
   "outputs": [],
   "source": [
    "class YourCnnClassifier(CnnClassifier):\n",
    "    \"\"\"\n",
    "    Profesjonalna implementacja klasyfikatora CNN dla zadania klasyfikacji niezbalansowanej.\n",
    "\n",
    "    Ta klasa implementuje sieć konwolucyjną z technikami regularyzacji i obsługą\n",
    "    niezbalansowanych danych poprzez ważone próbkowanie.\n",
    "    \"\"\"\n",
    "\n",
    "    def __init__(self):\n",
    "        \"\"\"\n",
    "        Inicjalizacja architektury sieci neuronowej.\n",
    "\n",
    "        Architektura składa się z:\n",
    "        - Dwóch warstw konwolucyjnych z poolingiem i dropout\n",
    "        - Warstw w pełni połączonych z regularyzacją\n",
    "        - Funkcji aktywacji sigmoid na wyjściu (klasyfikacja binarna)\n",
    "        \"\"\"\n",
    "        super().__init__()\n",
    "\n",
    "        # Definicja architektury sieci jako sekwencja warstw\n",
    "        self.network = torch.nn.Sequential(\n",
    "            # Pierwsza warstwa konwolucyjna: 1 kanał wejściowy -> 8 filtrów, kernel 5x5\n",
    "            torch.nn.Conv2d(in_channels=1, out_channels=8, kernel_size=5),\n",
    "            torch.nn.ReLU(),  # Funkcja aktywacji ReLU\n",
    "            torch.nn.MaxPool2d(\n",
    "                kernel_size=2, stride=2\n",
    "            ),  # Pooling 2x2 - redukcja wymiarów\n",
    "            torch.nn.Dropout(p=0.5),  # Dropout 50% - zapobieganie przeuczeniu\n",
    "            # Druga warstwa konwolucyjna: 8 -> 8 filtrów, kernel 5x5\n",
    "            torch.nn.Conv2d(in_channels=8, out_channels=8, kernel_size=5),\n",
    "            torch.nn.ReLU(),\n",
    "            torch.nn.MaxPool2d(\n",
    "                kernel_size=4, stride=4\n",
    "            ),  # Większy pooling - dalsze zmniejszenie\n",
    "            torch.nn.Dropout(p=0.5),\n",
    "            # Spłaszczenie tensora do wektora dla warstw w pełni połączonych\n",
    "            torch.nn.Flatten(),\n",
    "            # Pierwsza warstwa w pełni połączona: 5408 -> 256 neuronów\n",
    "            # Rozmiar 5408 wynika z wymiarów po konwolucji i poolingu\n",
    "            torch.nn.Linear(in_features=5408, out_features=256),\n",
    "            torch.nn.Dropout(p=0.5),\n",
    "            torch.nn.ReLU(),\n",
    "            # Warstwa wyjściowa: 256 -> 1 neuron (klasyfikacja binarna)\n",
    "            torch.nn.Linear(in_features=256, out_features=1),\n",
    "            torch.nn.Sigmoid(),  # Sigmoid - wyjście w zakresie [0,1] dla prawdopodobieństwa\n",
    "        )\n",
    "\n",
    "    def forward(self, x):\n",
    "        \"\"\"\n",
    "        Propagacja w przód przez sieć.\n",
    "\n",
    "        Args:\n",
    "            x: Tensor wejściowy z obrazami [batch_size, channels, height, width]\n",
    "\n",
    "        Returns:\n",
    "            Tensor z przewidywaniami [batch_size, 1]\n",
    "        \"\"\"\n",
    "        return self.network(x)\n",
    "\n",
    "    @classmethod\n",
    "    def create_with_training(cls):\n",
    "        \"\"\"\n",
    "        Tworzy i trenuje model z obsługą niezbalansowanych danych.\n",
    "\n",
    "        Implementuje techniki radzenia sobie z niezbalansowanymi klasami:\n",
    "        1. Obliczanie wag dla każdej klasy odwrotnie proporcjonalnie do częstości\n",
    "        2. Ważone próbkowanie podczas treningu\n",
    "        3. Odpowiednia funkcja straty i optymalizator\n",
    "\n",
    "        Returns:\n",
    "            Wytrenowany model YourCnnClassifier\n",
    "        \"\"\"\n",
    "        # Inicjalizacja modelu\n",
    "        model = cls()\n",
    "\n",
    "        # === ANALIZA ROZKŁADU KLAS ===\n",
    "        print(\"Analizowanie rozkładu klas w zbiorze treningowym...\")\n",
    "        cnt_0 = 0  # Licznik dla klasy 0 (klasa większościowa)\n",
    "        cnt_1 = 0  # Licznik dla klasy 1 (klasa mniejszościowa)\n",
    "\n",
    "        # Przejście przez cały zbiór treningowy w celu policzenia klas\n",
    "        for batch_idx, (input_batch, target_batch) in enumerate(train_dataset.loader()):\n",
    "            for target in target_batch:\n",
    "                if target.item() == 0:\n",
    "                    cnt_0 += 1\n",
    "                else:\n",
    "                    cnt_1 += 1\n",
    "\n",
    "        print(f\"Klasa 0 (większościowa): {cnt_0} próbek\")\n",
    "        print(f\"Klasa 1 (mniejszościowa): {cnt_1} próbek\")\n",
    "        print(f\"Stosunek niezbalansowania: {cnt_0/cnt_1:.2f}:1\")\n",
    "\n",
    "        # === OBLICZANIE WAG DLA WAŻONEGO PRÓBKOWANIA ===\n",
    "        total_samples = cnt_0 + cnt_1\n",
    "        weights = torch.zeros(total_samples)\n",
    "\n",
    "        # Wagi odwrotnie proporcjonalne do częstości klas\n",
    "        # Klasa rzadsza otrzymuje większą wagę\n",
    "        weight_class_0 = 1.0 / cnt_0  # Mniejsza waga dla klasy większościowej\n",
    "        weight_class_1 = 1.0 / cnt_1  # Większa waga dla klasy mniejszościowej\n",
    "\n",
    "        print(f\"Waga dla klasy 0: {weight_class_0:.6f}\")\n",
    "        print(f\"Waga dla klasy 1: {weight_class_1:.6f}\")\n",
    "\n",
    "        # Przypisanie wag każdej próbce\n",
    "        sample_idx = 0\n",
    "        for batch_idx, (input_batch, target_batch) in enumerate(train_dataset.loader()):\n",
    "            for target in target_batch:\n",
    "                if target.item() == 0:\n",
    "                    weights[sample_idx] = weight_class_0\n",
    "                else:\n",
    "                    weights[sample_idx] = weight_class_1\n",
    "                sample_idx += 1\n",
    "\n",
    "        # === KONFIGURACJA TRENINGU ===\n",
    "        batch_size = 32\n",
    "        n_epochs = 20\n",
    "        learning_rate = 0.001\n",
    "\n",
    "        # Tworzenie ważonego samplera - zapewnia zbalansowane batche\n",
    "        total_samples_per_epoch = batch_size * (total_samples // batch_size)\n",
    "        sampler = torch.utils.data.WeightedRandomSampler(\n",
    "            weights=weights,\n",
    "            num_samples=total_samples_per_epoch,\n",
    "            replacement=True,  # Próbkowanie ze zwracaniem\n",
    "        )\n",
    "\n",
    "        # DataLoader z ważonym próbkowaniem\n",
    "        loader = torch.utils.data.DataLoader(\n",
    "            train_dataset, batch_size=batch_size, sampler=sampler\n",
    "        )\n",
    "\n",
    "        # === KONFIGURACJA OPTYMALIZACJI ===\n",
    "        # Optymalizator Adam - adaptacyjna szybkość uczenia\n",
    "        optimizer = torch.optim.Adam(model.parameters(), lr=learning_rate)\n",
    "\n",
    "        # Funkcja straty Binary Cross Entropy - odpowiednia dla klasyfikacji binarnej\n",
    "        criterion = torch.nn.BCELoss(reduction=\"mean\")\n",
    "\n",
    "        # === PROCES TRENINGU ===\n",
    "        print(f\"\\nRozpoczynanie treningu:\")\n",
    "        print(f\"- Liczba epok: {n_epochs}\")\n",
    "        print(f\"- Rozmiar batcha: {batch_size}\")\n",
    "        print(f\"- Szybkość uczenia: {learning_rate}\")\n",
    "\n",
    "        model.train()  # Ustawienie modelu w tryb treningowy\n",
    "\n",
    "        for epoch in range(n_epochs):\n",
    "            epoch_loss = 0.0\n",
    "            batch_count = 0\n",
    "\n",
    "            for batch_idx, (images, labels) in enumerate(loader):\n",
    "                # Zerowanie gradientów z poprzedniej iteracji\n",
    "                optimizer.zero_grad()\n",
    "\n",
    "                # Propagacja w przód\n",
    "                predictions = model(images).flatten()  # Spłaszczenie do [batch_size]\n",
    "\n",
    "                # Obliczenie straty\n",
    "                loss = criterion(predictions, labels.float())\n",
    "\n",
    "                # Propagacja wsteczna - obliczenie gradientów\n",
    "                loss.backward()\n",
    "\n",
    "                # Aktualizacja wag\n",
    "                optimizer.step()\n",
    "\n",
    "                # Akumulacja straty dla statystyk\n",
    "                epoch_loss += loss.item()\n",
    "                batch_count += 1\n",
    "\n",
    "                # Wyświetlanie postępu co kilka batchy\n",
    "                if batch_idx % 50 == 0:\n",
    "                    print(\n",
    "                        f\"Epoka {epoch+1}/{n_epochs}, Batch {batch_idx}, \"\n",
    "                        f\"Strata: {loss.item():.4f}\"\n",
    "                    )\n",
    "\n",
    "            # Statystyki na koniec epoki\n",
    "            avg_epoch_loss = epoch_loss / batch_count\n",
    "            print(\n",
    "                f\"Epoka {epoch+1}/{n_epochs} zakończona. Średnia strata: {avg_epoch_loss:.4f}\"\n",
    "            )\n",
    "\n",
    "        # === ZAPISANIE MODELU ===\n",
    "        print(\"\\nZapisywanie wytrenowanego modelu...\")\n",
    "        torch.save(model.state_dict(), cls.MODEL_PATH)\n",
    "        print(f\"Model zapisany w: {cls.MODEL_PATH}\")\n",
    "\n",
    "        return model"
   ]
  },
  {
   "cell_type": "code",
   "execution_count": null,
   "metadata": {
    "id": "1R02MEun_kxC"
   },
   "outputs": [],
   "source": [
    "######################### NIE ZMIENIAJ TEJ KOMÓRKI PODCZAS WYSYŁANIA ##########################\n",
    "\n",
    "your_model = (\n",
    "    YourCnnClassifier.load()\n",
    "    if FINAL_EVALUATION_MODE\n",
    "    else YourCnnClassifier.create_with_training()\n",
    ")"
   ]
  },
  {
   "cell_type": "markdown",
   "metadata": {
    "id": "Cd4Y1FMZ_kxC"
   },
   "source": [
    "# Ewaluacja"
   ]
  },
  {
   "cell_type": "code",
   "execution_count": null,
   "metadata": {
    "id": "CWFhXp-y_kxD"
   },
   "outputs": [],
   "source": [
    "######################### NIE ZMIENIAJ TEJ KOMÓRKI PODCZAS WYSYŁANIA ##########################\n",
    "\n",
    "\n",
    "def evaluate_model(model):\n",
    "    \"\"\"Oceń ile punktów otrzyma aktualne zadanie.\"\"\"\n",
    "    return grade(model)"
   ]
  },
  {
   "cell_type": "code",
   "execution_count": null,
   "metadata": {
    "id": "I-NOrLg__kxD"
   },
   "outputs": [],
   "source": [
    "######################### NIE ZMIENIAJ TEJ KOMÓRKI PODCZAS WYSYŁANIA ##########################\n",
    "\n",
    "if not FINAL_EVALUATION_MODE:\n",
    "    print(f\"YourCnnClassifier -- Ocena: {evaluate_model(your_model):.2f} pkt\")"
   ]
  }
 ],
 "metadata": {
  "colab": {
   "provenance": []
  },
  "kernelspec": {
   "display_name": "Python 3 (ipykernel)",
   "language": "python",
   "name": "python3"
  },
  "language_info": {
   "codemirror_mode": {
    "name": "ipython",
    "version": 3
   },
   "file_extension": ".py",
   "mimetype": "text/x-python",
   "name": "python",
   "nbconvert_exporter": "python",
   "pygments_lexer": "ipython3",
   "version": "3.11.5"
  }
 },
 "nbformat": 4,
 "nbformat_minor": 0
}
